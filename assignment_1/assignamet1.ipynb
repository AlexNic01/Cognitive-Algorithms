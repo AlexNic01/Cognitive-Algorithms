{
 "cells": [
  {
   "cell_type": "code",
   "execution_count": 48,
   "metadata": {
    "collapsed": true
   },
   "outputs": [],
   "source": [
    "#your name and matrikelnr\n",
    "import pylab as pl\n",
    "import scipy as sp\n",
    "import time\n",
    "import pdb\n",
    "%matplotlib inline \n",
    "\n"
   ]
  },
  {
   "cell_type": "code",
   "execution_count": null,
   "metadata": {},
   "outputs": [],
   "source": []
  },
  {
   "cell_type": "code",
   "execution_count": 49,
   "metadata": {
    "collapsed": true
   },
   "outputs": [],
   "source": [
    "def generate_data(N):\n",
    "    '''\n",
    "    Generate N data points form a 2D Gaussian Gaussian distribution \n",
    "    with mean [1, 2] \n",
    "    \n",
    "    Usage:     x = generate_data(N)\n",
    "               \n",
    "    Returns:   x : a 2xN array    \n",
    "    \n",
    "    Instructions: Use sp.random.multivariate_normal\n",
    "    '''\n",
    "    # Your code here \n",
    "    mean = [1, 2]\n",
    "    cov = [[1, 0.5], [0.5, 1]]\n",
    "    return sp.random.multivariate_normal(mean, cov, N).T\n",
    "\n",
    "  \n"
   ]
  },
  {
   "cell_type": "code",
   "execution_count": 50,
   "metadata": {},
   "outputs": [
    {
     "name": "stdout",
     "output_type": "stream",
     "text": [
      "()\n",
      "[2.2851858765423576, 2.2237447845812541]\n"
     ]
    },
    {
     "data": {
      "text/plain": [
       "array([[-0.45520133,  1.19397107,  1.158391  ,  0.56325708,  0.94278729,\n",
       "         2.10745417,  0.76180018,  1.4547433 ,  1.34538887,  3.19299696],\n",
       "       [-0.16463154,  0.87247135,  2.10455295,  1.89774695,  2.69438137,\n",
       "         1.89326358,  2.33417987,  2.83983366,  1.82656373,  4.05325338]])"
      ]
     },
     "execution_count": 50,
     "metadata": {},
     "output_type": "execute_result"
    }
   ],
   "source": [
    "import numpy as np\n",
    "mean = [1, 2]\n",
    "cov = [[1, 0], [0, 100]]\n",
    "#print(np.random.multivariate_normal(mean, cov, 2).T)\n",
    "print()\n",
    "print([l for l in sp.random.multivariate_normal(mean, cov, 2).T[0]])\n",
    "generate_data(10)"
   ]
  },
  {
   "cell_type": "code",
   "execution_count": 51,
   "metadata": {
    "collapsed": true
   },
   "outputs": [],
   "source": [
    "def scale_data(X):\n",
    "    '''\n",
    "    Scales the data in X by 2 in x-direction and by 0.5 in y-direction\n",
    "    \n",
    "    Usage:     Y = scale_data(X)\n",
    "    Input:     X : a 2xN array \n",
    "    Returns:   Y : a 2xN array of scaled data\n",
    "    \n",
    "    '''\n",
    "    # Your code here \n",
    "    return [[2*i for i in X[0]],[.5*i for i in X[1]]]\n",
    "  "
   ]
  },
  {
   "cell_type": "code",
   "execution_count": 52,
   "metadata": {},
   "outputs": [],
   "source": [
    "def standardise_data(X):\n",
    "    ''' Returns a centered, scaled version of X, the same size as X.\n",
    "    \n",
    "    Usage:      Y = standardise_data(X)\n",
    "    Input:      X : a DxN array \n",
    "    Returns:    Y : a DxN array of z-scores of X\n",
    "                    Y[i][n] = (X[i][n] - mean(X[i][:]))/std(X[i][:])\n",
    "    \n",
    "    Instructions: Do not use for-loops. Use sp.mean and sp.std\n",
    "    '''\n",
    "    # Your code here \n",
    "    \n",
    "#    means = [1.*sum(x)/len(x) for x in X ]\n",
    "    means2 = sp.mean(X, axis = 1, keepdims=True)\n",
    "    squares2 = sp.std(X, axis = 1, keepdims=True)\n",
    "    result = (X-means2)/squares2\n",
    "#    print means2.shape\n",
    "#    print X-means2\n",
    "#    print sp.all(means == means2)\n",
    "#    means = [sp.mean(x) for x in X ]\n",
    "#    means = []\n",
    "#    squares = [(sum([(i-y)**2 for i in x]) / len(x)) **.5 for (x,y) in zip(X,means)]\n",
    "    squares2 = sp.std(X, axis = 1, keepdims=True)\n",
    "    result = (X-means2)/squares2\n",
    "#    print sp.all(squares == squares2)\n",
    "    # squares = [(sum([(i-y)**2 for i in x]) / len(x)) **.5 for (x,y) in zip(X,means)]\n",
    "    #  result = (X - mean)\n",
    " #   [[(y-m)/s for y in x] for ((x,m),s) in zip(zip(X,means),squares)] ==\n",
    "\n",
    "#    print result == [[(y-m)/s for y in x] for ((x,m),s) in zip(zip(X,means),squares)]\n",
    "#    return [[(y-m)/s for y in x] for ((x,m),s) in zip(zip(X,means),squares)]\n",
    "    return result\n"
   ]
  },
  {
   "cell_type": "code",
   "execution_count": 53,
   "metadata": {},
   "outputs": [
    {
     "name": "stdout",
     "output_type": "stream",
     "text": [
      "[[ 0.80488417  0.20508574]\n",
      " [-0.42356202  0.97704618]]\n"
     ]
    },
    {
     "data": {
      "text/plain": [
       "array([[ 1., -1.],\n",
       "       [-1.,  1.]])"
      ]
     },
     "execution_count": 53,
     "metadata": {},
     "output_type": "execute_result"
    }
   ],
   "source": [
    "a = generate_data(2)\n",
    "print(a)\n",
    "standardise_data(a)\n",
    "\n"
   ]
  },
  {
   "cell_type": "code",
   "execution_count": 54,
   "metadata": {},
   "outputs": [
    {
     "name": "stdout",
     "output_type": "stream",
     "text": [
      "2\n"
     ]
    },
    {
     "name": "stderr",
     "output_type": "stream",
     "text": [
      "/usr/local/lib/python2.7/dist-packages/ipykernel_launcher.py:18: MatplotlibDeprecationWarning: pyplot.hold is deprecated.\n",
      "    Future behavior will be consistent with the long-time default:\n",
      "    plot commands add elements without first clearing the\n",
      "    Axes and/or Figure.\n"
     ]
    },
    {
     "data": {
      "image/png": "[encoded data removed]",
      "text/plain": [
       "<matplotlib.figure.Figure at 0x7fe8961694d0>"
      ]
     },
     "metadata": {},
     "output_type": "display_data"
    }
   ],
   "source": [
    "\n",
    "''' ---- Task 1 ---- '''\n",
    "\n",
    "def task1():\n",
    "    ''' \n",
    "    Task 1\n",
    "    Generate, transform and plot gaussian data\n",
    "    '''\n",
    "    X = generate_data(100)\n",
    "    X2 = scale_data(X)\n",
    "    X3 = standardise_data(X) \n",
    "    print len(X)\n",
    "    # Plot data \n",
    "    # Your code here \n",
    "    # Hint: Use the functions pl.scatter(x[0,:],[1,:],c='r'), pl.hold(True), \n",
    "    # pl.legend, pl.title, pl.xlabel, pl.ylabel  \n",
    "    original = pl.scatter(X[0],X[1],  marker='.', c='y', label='original')\n",
    "    pl.hold(True)\n",
    "    pl.xlabel('X axis')\n",
    "    pl.ylabel('Y axis')\n",
    "    pl.title('Basic point manipulation')\n",
    "    pl.xlim(-6, 10)\n",
    "    pl.ylim(-5, 5)\n",
    "\n",
    "    scaled = pl.scatter(X2[0],X2[1],  marker='.', c='r', label='scaled')\n",
    "    standardised = pl.scatter(X3[0],X3[1], marker='x', c='b', label='standardised')\n",
    "    pl.legend((original, scaled, standardised), ('original', 'scaled', 'standardised'), loc=\"upper right\")\n",
    " #   print(X[0,:5])\n",
    "task1()"
   ]
  },
  {
   "cell_type": "code",
   "execution_count": 55,
   "metadata": {
    "collapsed": true
   },
   "outputs": [],
   "source": [
    "  '''Mean of array X along the rows\n",
    "    \n",
    "    Usage:      m = mean_for(X)\n",
    "    Input:      X : a DxN array \n",
    "    Returns:    m : a 1-dimensional array of length D, containing the means of each row\n",
    "    \n",
    "    Example: if   X =  [1 5      mean_for(X) = [3 4 5]\n",
    "                        2 6                     \n",
    "                        3 7]                   \n",
    "         \n",
    "        \n",
    "    Instructions: Use for-loops to replicate sp.mean(X,1) \n",
    "    Do not use sp.mean or sp.sum\n",
    "    '''    \n",
    "      \n",
    "def mean_for(X):\n",
    "        means = [1.*sum(x)/len(x) for x in X]\n",
    "        return means"
   ]
  },
  {
   "cell_type": "code",
   "execution_count": 59,
   "metadata": {},
   "outputs": [
    {
     "data": {
      "text/plain": [
       "' ---- Function for testing ---- '"
      ]
     },
     "execution_count": 59,
     "metadata": {},
     "output_type": "execute_result"
    }
   ],
   "source": [
    "\n",
    "def timedcall(fn, *args):\n",
    "    '''Call function with args; return the time in seconds and result.\n",
    "        example: \n",
    "        You want to time the function call \"C = foo(A,B)\". \n",
    "        --> \"T, C = timecall(foo, A, B)\"\n",
    "    '''\n",
    "    t0 = time.clock()\n",
    "    result = fn(*args)\n",
    "    t1 = time.clock()\n",
    "    return t1-t0\n",
    "    \n",
    "''' ---- Function for testing ---- '''\n",
    "\n"
   ]
  },
  {
   "cell_type": "code",
   "execution_count": 60,
   "metadata": {},
   "outputs": [
    {
     "name": "stdout",
     "output_type": "stream",
     "text": [
      "For N = 100 scipy.mean is 1.49999999994e-05s faster than a for-loop implementation\n",
      "For N = 1000 scipy.mean is 0.000344999999999s faster than a for-loop implementation\n",
      "For N = 10000 scipy.mean is 0.003887s faster than a for-loop implementation\n",
      "For N = 100000 scipy.mean is 0.029424s faster than a for-loop implementation\n",
      "For N = 1000000 scipy.mean is 0.190614s faster than a for-loop implementation\n"
     ]
    }
   ],
   "source": [
    "def task2():\n",
    "    ''' \n",
    "    Task 2 \n",
    "    Calculate time demand of different mean calculations \n",
    "    (for-loop based implementation vs. scipy.mean)\n",
    "    '''\n",
    "    dims = [100, 1000, 10**4, 10**5, 10**6]\n",
    "    for i, d in enumerate(dims):\n",
    "        x = generate_data(d)\n",
    "        r1 = timedcall(mean_for, x)\n",
    "        r2 = timedcall(sp.mean, x,1)\n",
    "        print 'For N = ' + str(d) + ' scipy.mean is ' + str(r1 - r2) \\\n",
    "            + 's faster than a for-loop implementation'\n",
    "task2()"
   ]
  },
  {
   "cell_type": "code",
   "execution_count": 61,
   "metadata": {},
   "outputs": [
    {
     "ename": "TypeError",
     "evalue": "unsupported operand type(s) for -: 'tuple' and 'tuple'",
     "output_type": "error",
     "traceback": [
      "\u001b[0;31m---------------------------------------------------------------------------\u001b[0m",
      "\u001b[0;31mTypeError\u001b[0m                                 Traceback (most recent call last)",
      "\u001b[0;32m<ipython-input-61-1aebea1da4df>\u001b[0m in \u001b[0;36m<module>\u001b[0;34m()\u001b[0m\n\u001b[0;32m----> 1\u001b[0;31m \u001b[0;34m(\u001b[0m\u001b[0;36m1\u001b[0m\u001b[0;34m,\u001b[0m\u001b[0;36m2\u001b[0m\u001b[0;34m)\u001b[0m \u001b[0;34m-\u001b[0m \u001b[0;34m(\u001b[0m\u001b[0;36m2\u001b[0m\u001b[0;34m,\u001b[0m\u001b[0;36m1\u001b[0m\u001b[0;34m)\u001b[0m\u001b[0;34m\u001b[0m\u001b[0m\n\u001b[0m",
      "\u001b[0;31mTypeError\u001b[0m: unsupported operand type(s) for -: 'tuple' and 'tuple'"
     ]
    }
   ],
   "source": [
    "(1,2) - (2,1)"
   ]
  },
  {
   "cell_type": "code",
   "execution_count": 62,
   "metadata": {
    "collapsed": true
   },
   "outputs": [],
   "source": [
    "def test_prep():\n",
    "    a = sp.array([[ 1.,  3.,  4.],[ 2.,  4.,  6.]])\n",
    "    b = sp.array([[ 2.,  6.,  8.],[ 1.,  2.,  3.]])\n",
    "    #test scale_data\n",
    "    assert(sp.all(scale_data(a) == b))\n",
    "    #test standardise_data\n",
    "    assert(sp.all(standardise_data(a.T) == sp.array([[-1.,  1.],[-1.,  1.],[-1.,  1.]])))\n",
    "    assert(sp.all(sp.mean(standardise_data(b),1).round() == sp.zeros((1,2))))\n",
    "    c = sp.concatenate((a,b),axis=0)\n",
    "    assert(sp.all(sp.mean(standardise_data(c),1).round() == sp.zeros((1,4))))\n",
    "    #test mean_for\n",
    "    assert(sp.all(mean_for(a) == sp.mean(a,1))) \n",
    "    #test generate_data\n",
    "    x = generate_data(200)\n",
    "    assert(x.shape == (2, 200))\n",
    "    print 'Tests passed'"
   ]
  },
  {
   "cell_type": "code",
   "execution_count": 63,
   "metadata": {},
   "outputs": [
    {
     "name": "stdout",
     "output_type": "stream",
     "text": [
      "Tests passed\n"
     ]
    }
   ],
   "source": [
    "test_prep()"
   ]
  },
  {
   "cell_type": "code",
   "execution_count": null,
   "metadata": {
    "collapsed": true
   },
   "outputs": [],
   "source": []
  },
  {
   "cell_type": "code",
   "execution_count": null,
   "metadata": {
    "collapsed": true
   },
   "outputs": [],
   "source": []
  }
 ],
 "metadata": {
  "kernelspec": {
   "display_name": "Python 2",
   "language": "python",
   "name": "python2"
  },
  "language_info": {
   "codemirror_mode": {
    "name": "ipython",
    "version": 2
   },
   "file_extension": ".py",
   "mimetype": "text/x-python",
   "name": "python",
   "nbconvert_exporter": "python",
   "pygments_lexer": "ipython2",
   "version": "2.7.12"
  }
 },
 "nbformat": 4,
 "nbformat_minor": 2
}
